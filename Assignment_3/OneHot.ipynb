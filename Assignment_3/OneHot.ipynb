{
 "cells": [
  {
   "cell_type": "markdown",
   "metadata": {},
   "source": [
    "# SVM"
   ]
  },
  {
   "cell_type": "markdown",
   "metadata": {},
   "source": [
    "## Encode"
   ]
  },
  {
   "cell_type": "code",
   "execution_count": 3,
   "metadata": {},
   "outputs": [],
   "source": [
    "from Bio import SeqIO\n",
    "import numpy as np"
   ]
  },
  {
   "cell_type": "code",
   "execution_count": 4,
   "metadata": {},
   "outputs": [
    {
     "data": {
      "text/plain": [
       "(4960, 37625)"
      ]
     },
     "execution_count": 4,
     "metadata": {},
     "output_type": "execute_result"
    }
   ],
   "source": [
    "import pandas as pd\n",
    "\n",
    "# Load the File Path\n",
    "pos_file_path = \"C:/Users/ddes2/Desktop/桌面/BML/Assignment_2/CD_HIT_Pos.fasta\"\n",
    "neg_file_path = \"C:/Users/ddes2/Desktop/桌面/BML/Assignment_2/CD_HIT_Neg.fasta\"\n",
    "\n",
    "# Load Sequences from the File\n",
    "def load_seq(file_path):\n",
    "  with open(file_path, 'r') as file:\n",
    "    return[str(record.seq) for record in SeqIO.parse(file, \"fasta\")]\n",
    "\n",
    "# Load Positive and Negative sequence\n",
    "pos_seq = load_seq(pos_file_path)\n",
    "neg_seq = load_seq(neg_file_path)\n",
    "\n",
    "# The number of Sequences of Pos and Neg\n",
    "len_pos_seq = len(pos_seq)\n",
    "len_neg_seq = len(neg_seq)\n",
    "\n",
    "len_pos_seq, len_neg_seq"
   ]
  },
  {
   "cell_type": "code",
   "execution_count": 35,
   "metadata": {},
   "outputs": [
    {
     "data": {
      "text/plain": [
       "([(31, 20), (31, 20), (31, 20), (31, 20), (31, 20)],\n",
       " [(31, 20), (31, 20), (31, 20), (31, 20), (31, 20)])"
      ]
     },
     "execution_count": 35,
     "metadata": {},
     "output_type": "execute_result"
    }
   ],
   "source": [
    "# # One-hot encoding for amino acid sequences\n",
    "# import numpy as np\n",
    "\n",
    "# # Amino acids (standard 20 amino acids)\n",
    "# amino_acids = 'ACDEFGHIKLMNPQRSTVWY'\n",
    "\n",
    "# # Create a mapping for amino acids to integers\n",
    "# aa_to_int = {aa: i for i, aa in enumerate(amino_acids)}\n",
    "\n",
    "# # Function to one-hot encode a sequence\n",
    "# def one_hot_encode(seq):\n",
    "#     # Create a zero-filled matrix of shape (len(seq), 20)\n",
    "#     one_hot = np.zeros((len(seq), len(amino_acids)), dtype=np.int8)\n",
    "#     for i, aa in enumerate(seq):\n",
    "#         if aa in aa_to_int:\n",
    "#             one_hot[i, aa_to_int[aa]] = 1\n",
    "#     return one_hot\n",
    "\n",
    "# # Redefine the one-hot encoding function to handle a batch of sequences\n",
    "# def one_hot_encode_batch(sequences, batch_size=1000):\n",
    "#     encoded_batches = []\n",
    "#     for i in range(0, len(sequences), batch_size):\n",
    "#         batch = sequences[i:i+batch_size]\n",
    "#         encoded_batch = [one_hot_encode(seq) for seq in batch]\n",
    "#         encoded_batches.extend(encoded_batch)\n",
    "#     return encoded_batches\n",
    "\n",
    "# # Perform one-hot encoding in batches for negative sequences\n",
    "# # Due to potential memory constraints, we'll encode a smaller batch as a test\n",
    "# neg_encoded = one_hot_encode_batch(neg_seq)\n",
    "# pos_encoded = one_hot_encode_batch(pos_seq)\n",
    "\n",
    "# # Check the shape of the first few encoded sequences\n",
    "# neg_encoded_test_batch_shapes = [encoded_seq.shape for encoded_seq in neg_encoded[:5]]\n",
    "# pos_encoded_test_batch_shapes = [encoded_seq.shape for encoded_seq in pos_encoded[:5]]\n",
    "\n",
    "# neg_encoded_test_batch_shapes, pos_encoded_test_batch_shapes\n",
    "\n"
   ]
  },
  {
   "cell_type": "code",
   "execution_count": 5,
   "metadata": {},
   "outputs": [
    {
     "ename": "KeyError",
     "evalue": "''",
     "output_type": "error",
     "traceback": [
      "\u001b[1;31m---------------------------------------------------------------------------\u001b[0m",
      "\u001b[1;31mKeyError\u001b[0m                                  Traceback (most recent call last)",
      "Cell \u001b[1;32mIn[5], line 17\u001b[0m\n\u001b[0;32m     15\u001b[0m     \u001b[38;5;28;01mreturn\u001b[39;00m sequences\n\u001b[0;32m     16\u001b[0m amino_acids \u001b[38;5;241m=\u001b[39m \u001b[38;5;124m'\u001b[39m\u001b[38;5;124mACDEFGHIKLMNPQRSTVWY\u001b[39m\u001b[38;5;124m'\u001b[39m\n\u001b[1;32m---> 17\u001b[0m sequences \u001b[38;5;241m=\u001b[39m parse_fasta(pos_file_path)\n\u001b[0;32m     19\u001b[0m \u001b[38;5;28;01mdef\u001b[39;00m \u001b[38;5;21mone_hot_encode_csv_string\u001b[39m(sequence):\n\u001b[0;32m     20\u001b[0m     encoding_list \u001b[38;5;241m=\u001b[39m []\n",
      "Cell \u001b[1;32mIn[5], line 14\u001b[0m, in \u001b[0;36mparse_fasta\u001b[1;34m(file_contents)\u001b[0m\n\u001b[0;32m     12\u001b[0m         sequences[current_seq_id] \u001b[38;5;241m=\u001b[39m \u001b[38;5;124m\"\u001b[39m\u001b[38;5;124m\"\u001b[39m\n\u001b[0;32m     13\u001b[0m     \u001b[38;5;28;01melse\u001b[39;00m:\n\u001b[1;32m---> 14\u001b[0m         sequences[current_seq_id] \u001b[38;5;241m+\u001b[39m\u001b[38;5;241m=\u001b[39m line\u001b[38;5;241m.\u001b[39mstrip()\n\u001b[0;32m     15\u001b[0m \u001b[38;5;28;01mreturn\u001b[39;00m sequences\n",
      "\u001b[1;31mKeyError\u001b[0m: ''"
     ]
    }
   ],
   "source": [
    "import pandas as pd\n",
    "\n",
    "# Function to flatten the one-hot encoded sequence and convert to DataFrame\n",
    "def flatten_and_convert_to_df(encoded_sequences):\n",
    "    flattened_sequences = [encoded_seq.flatten() for encoded_seq in encoded_sequences]\n",
    "    return pd.DataFrame(flattened_sequences)\n",
    "\n",
    "# Flatten the encoded test batch and convert to DataFrame\n",
    "neg_encoded_df = flatten_and_convert_to_df(neg_encoded)\n",
    "pos_encoded_df = flatten_and_convert_to_df(pos_encoded)\n",
    "\n",
    "# Save the DataFrame to a CSV file\n",
    "neg_csv_path = 'C:/Users/ddes2/Desktop/桌面/BML/Assignment_3/onehot_neg.csv'\n",
    "neg_encoded_df.to_csv(neg_csv_path, index=False)\n",
    "\n",
    "# Save the DataFrame to a CSV file\n",
    "pos_csv_path = 'C:/Users/ddes2/Desktop/桌面/BML/Assignment_3/onehot_pos.csv'\n",
    "pos_encoded_df.to_csv(pos_csv_path, index=False)\n",
    "\n",
    "neg_csv_path, pos_csv_path\n"
   ]
  },
  {
   "cell_type": "markdown",
   "metadata": {},
   "source": [
    "## Load Data"
   ]
  },
  {
   "cell_type": "code",
   "execution_count": 37,
   "metadata": {},
   "outputs": [
    {
     "data": {
      "text/plain": [
       "(4960, 37625)"
      ]
     },
     "execution_count": 37,
     "metadata": {},
     "output_type": "execute_result"
    }
   ],
   "source": [
    "import pandas as pd\n",
    "\n",
    "# Load Dataset\n",
    "AAC_pos = pd.read_csv('C:/Users/ddes2/Desktop/桌面/BML/Assignment_3/onehot_pos.csv')\n",
    "AAC_neg = pd.read_csv('C:/Users/ddes2/Desktop/桌面/BML/Assignment_3/onehot_neg.csv')\n",
    "\n",
    "# Confirm the number of Positive Negative Dataset Negative Dataset\n",
    "num_pos = len(AAC_pos)\n",
    "num_neg = len(AAC_neg)\n",
    "\n",
    "num_pos, num_neg\n"
   ]
  },
  {
   "cell_type": "code",
   "execution_count": 40,
   "metadata": {},
   "outputs": [
    {
     "name": "stderr",
     "output_type": "stream",
     "text": [
      "c:\\Users\\ddes2\\anaconda3\\Lib\\site-packages\\sklearn\\cluster\\_kmeans.py:870: FutureWarning: The default value of `n_init` will change from 10 to 'auto' in 1.4. Set the value of `n_init` explicitly to suppress the warning\n",
      "  warnings.warn(\n",
      "c:\\Users\\ddes2\\anaconda3\\Lib\\site-packages\\sklearn\\cluster\\_kmeans.py:870: FutureWarning: The default value of `n_init` will change from 10 to 'auto' in 1.4. Set the value of `n_init` explicitly to suppress the warning\n",
      "  warnings.warn(\n",
      "c:\\Users\\ddes2\\anaconda3\\Lib\\site-packages\\sklearn\\cluster\\_kmeans.py:870: FutureWarning: The default value of `n_init` will change from 10 to 'auto' in 1.4. Set the value of `n_init` explicitly to suppress the warning\n",
      "  warnings.warn(\n",
      "c:\\Users\\ddes2\\anaconda3\\Lib\\site-packages\\sklearn\\cluster\\_kmeans.py:870: FutureWarning: The default value of `n_init` will change from 10 to 'auto' in 1.4. Set the value of `n_init` explicitly to suppress the warning\n",
      "  warnings.warn(\n",
      "c:\\Users\\ddes2\\anaconda3\\Lib\\site-packages\\sklearn\\cluster\\_kmeans.py:870: FutureWarning: The default value of `n_init` will change from 10 to 'auto' in 1.4. Set the value of `n_init` explicitly to suppress the warning\n",
      "  warnings.warn(\n",
      "c:\\Users\\ddes2\\anaconda3\\Lib\\site-packages\\sklearn\\cluster\\_kmeans.py:870: FutureWarning: The default value of `n_init` will change from 10 to 'auto' in 1.4. Set the value of `n_init` explicitly to suppress the warning\n",
      "  warnings.warn(\n",
      "c:\\Users\\ddes2\\anaconda3\\Lib\\site-packages\\sklearn\\cluster\\_kmeans.py:870: FutureWarning: The default value of `n_init` will change from 10 to 'auto' in 1.4. Set the value of `n_init` explicitly to suppress the warning\n",
      "  warnings.warn(\n",
      "c:\\Users\\ddes2\\anaconda3\\Lib\\site-packages\\sklearn\\cluster\\_kmeans.py:870: FutureWarning: The default value of `n_init` will change from 10 to 'auto' in 1.4. Set the value of `n_init` explicitly to suppress the warning\n",
      "  warnings.warn(\n",
      "c:\\Users\\ddes2\\anaconda3\\Lib\\site-packages\\sklearn\\cluster\\_kmeans.py:870: FutureWarning: The default value of `n_init` will change from 10 to 'auto' in 1.4. Set the value of `n_init` explicitly to suppress the warning\n",
      "  warnings.warn(\n",
      "c:\\Users\\ddes2\\anaconda3\\Lib\\site-packages\\sklearn\\cluster\\_kmeans.py:870: FutureWarning: The default value of `n_init` will change from 10 to 'auto' in 1.4. Set the value of `n_init` explicitly to suppress the warning\n",
      "  warnings.warn(\n"
     ]
    },
    {
     "data": {
      "image/png": "[encoded data removed]",
      "text/plain": [
       "<Figure size 1000x800 with 1 Axes>"
      ]
     },
     "metadata": {},
     "output_type": "display_data"
    }
   ],
   "source": [
    "from sklearn.cluster import KMeans\n",
    "import matplotlib.pyplot as plt\n",
    "\n",
    "# Drop the unnecessary part\n",
    "# negative_data_numeric = AAC_neg.drop(columns=['#'])\n",
    "\n",
    "# Function to calculate the sum of squared distances for different number of clusters\n",
    "def calculate_wcss(data):\n",
    "    wcss = []\n",
    "    for i in range(1, 11):\n",
    "        kmeans= KMeans(n_clusters=i, init='k-means++', random_state=42)\n",
    "        kmeans.fit(AAC_neg)\n",
    "        wcss.append(kmeans.inertia_)\n",
    "    return wcss\n",
    "\n",
    "# Prepare data for KMeans (drop the 'name' column as it's not needed for clustering)\n",
    "# X_neg = AAC_neg.drop('#', axis=1)\n",
    "\n",
    "# Calculate WCSS for different number of clusters\n",
    "wcss_neg = calculate_wcss(AAC_neg)\n",
    "\n",
    "# Plot the elbow graph\n",
    "plt.figure(figsize=(10, 8))\n",
    "plt.plot(range(1, 11), wcss_neg, marker='o', linestyle='--')\n",
    "plt.title('Elbow Method For Optimal k (Negative Data)')\n",
    "plt.xlabel('Number of clusters')\n",
    "plt.ylabel('WCSS')\n",
    "plt.show()\n"
   ]
  },
  {
   "cell_type": "code",
   "execution_count": 41,
   "metadata": {},
   "outputs": [
    {
     "name": "stderr",
     "output_type": "stream",
     "text": [
      "c:\\Users\\ddes2\\anaconda3\\Lib\\site-packages\\sklearn\\cluster\\_kmeans.py:870: FutureWarning: The default value of `n_init` will change from 10 to 'auto' in 1.4. Set the value of `n_init` explicitly to suppress the warning\n",
      "  warnings.warn(\n",
      "c:\\Users\\ddes2\\anaconda3\\Lib\\site-packages\\sklearn\\cluster\\_kmeans.py:870: FutureWarning: The default value of `n_init` will change from 10 to 'auto' in 1.4. Set the value of `n_init` explicitly to suppress the warning\n",
      "  warnings.warn(\n",
      "c:\\Users\\ddes2\\anaconda3\\Lib\\site-packages\\sklearn\\cluster\\_kmeans.py:870: FutureWarning: The default value of `n_init` will change from 10 to 'auto' in 1.4. Set the value of `n_init` explicitly to suppress the warning\n",
      "  warnings.warn(\n",
      "c:\\Users\\ddes2\\anaconda3\\Lib\\site-packages\\sklearn\\cluster\\_kmeans.py:870: FutureWarning: The default value of `n_init` will change from 10 to 'auto' in 1.4. Set the value of `n_init` explicitly to suppress the warning\n",
      "  warnings.warn(\n",
      "c:\\Users\\ddes2\\anaconda3\\Lib\\site-packages\\sklearn\\cluster\\_kmeans.py:870: FutureWarning: The default value of `n_init` will change from 10 to 'auto' in 1.4. Set the value of `n_init` explicitly to suppress the warning\n",
      "  warnings.warn(\n",
      "c:\\Users\\ddes2\\anaconda3\\Lib\\site-packages\\sklearn\\cluster\\_kmeans.py:870: FutureWarning: The default value of `n_init` will change from 10 to 'auto' in 1.4. Set the value of `n_init` explicitly to suppress the warning\n",
      "  warnings.warn(\n",
      "c:\\Users\\ddes2\\anaconda3\\Lib\\site-packages\\sklearn\\cluster\\_kmeans.py:870: FutureWarning: The default value of `n_init` will change from 10 to 'auto' in 1.4. Set the value of `n_init` explicitly to suppress the warning\n",
      "  warnings.warn(\n",
      "c:\\Users\\ddes2\\anaconda3\\Lib\\site-packages\\sklearn\\cluster\\_kmeans.py:870: FutureWarning: The default value of `n_init` will change from 10 to 'auto' in 1.4. Set the value of `n_init` explicitly to suppress the warning\n",
      "  warnings.warn(\n",
      "c:\\Users\\ddes2\\anaconda3\\Lib\\site-packages\\sklearn\\cluster\\_kmeans.py:870: FutureWarning: The default value of `n_init` will change from 10 to 'auto' in 1.4. Set the value of `n_init` explicitly to suppress the warning\n",
      "  warnings.warn(\n",
      "c:\\Users\\ddes2\\anaconda3\\Lib\\site-packages\\sklearn\\cluster\\_kmeans.py:870: FutureWarning: The default value of `n_init` will change from 10 to 'auto' in 1.4. Set the value of `n_init` explicitly to suppress the warning\n",
      "  warnings.warn(\n"
     ]
    },
    {
     "data": {
      "text/plain": [
       "[1059507.9607176082,\n",
       " 1055828.9957329116,\n",
       " 1053031.6213191838,\n",
       " 1049717.7541951127,\n",
       " 1047219.7714820763,\n",
       " 1044845.9415899243,\n",
       " 1042826.8645595016,\n",
       " 1040795.884752664,\n",
       " 1038955.4110965224,\n",
       " 1037191.9391833006]"
      ]
     },
     "execution_count": 41,
     "metadata": {},
     "output_type": "execute_result"
    }
   ],
   "source": [
    "wcss_neg_cleaned = calculate_wcss(wcss_neg)\n",
    "wcss_neg_cleaned"
   ]
  },
  {
   "cell_type": "code",
   "execution_count": 42,
   "metadata": {},
   "outputs": [
    {
     "data": {
      "text/html": [
       "<div>\n",
       "<style scoped>\n",
       "    .dataframe tbody tr th:only-of-type {\n",
       "        vertical-align: middle;\n",
       "    }\n",
       "\n",
       "    .dataframe tbody tr th {\n",
       "        vertical-align: top;\n",
       "    }\n",
       "\n",
       "    .dataframe thead th {\n",
       "        text-align: right;\n",
       "    }\n",
       "</style>\n",
       "<table border=\"1\" class=\"dataframe\">\n",
       "  <thead>\n",
       "    <tr style=\"text-align: right;\">\n",
       "      <th></th>\n",
       "      <th>0</th>\n",
       "      <th>1</th>\n",
       "      <th>2</th>\n",
       "      <th>3</th>\n",
       "      <th>4</th>\n",
       "      <th>5</th>\n",
       "      <th>6</th>\n",
       "      <th>7</th>\n",
       "      <th>8</th>\n",
       "      <th>9</th>\n",
       "      <th>...</th>\n",
       "      <th>610</th>\n",
       "      <th>611</th>\n",
       "      <th>612</th>\n",
       "      <th>613</th>\n",
       "      <th>614</th>\n",
       "      <th>615</th>\n",
       "      <th>616</th>\n",
       "      <th>617</th>\n",
       "      <th>618</th>\n",
       "      <th>619</th>\n",
       "    </tr>\n",
       "  </thead>\n",
       "  <tbody>\n",
       "    <tr>\n",
       "      <th>0</th>\n",
       "      <td>0</td>\n",
       "      <td>0</td>\n",
       "      <td>0</td>\n",
       "      <td>0</td>\n",
       "      <td>0</td>\n",
       "      <td>0</td>\n",
       "      <td>0</td>\n",
       "      <td>0</td>\n",
       "      <td>0</td>\n",
       "      <td>0</td>\n",
       "      <td>...</td>\n",
       "      <td>1</td>\n",
       "      <td>0</td>\n",
       "      <td>0</td>\n",
       "      <td>0</td>\n",
       "      <td>0</td>\n",
       "      <td>0</td>\n",
       "      <td>0</td>\n",
       "      <td>0</td>\n",
       "      <td>0</td>\n",
       "      <td>0</td>\n",
       "    </tr>\n",
       "    <tr>\n",
       "      <th>1</th>\n",
       "      <td>0</td>\n",
       "      <td>0</td>\n",
       "      <td>1</td>\n",
       "      <td>0</td>\n",
       "      <td>0</td>\n",
       "      <td>0</td>\n",
       "      <td>0</td>\n",
       "      <td>0</td>\n",
       "      <td>0</td>\n",
       "      <td>0</td>\n",
       "      <td>...</td>\n",
       "      <td>0</td>\n",
       "      <td>0</td>\n",
       "      <td>0</td>\n",
       "      <td>0</td>\n",
       "      <td>0</td>\n",
       "      <td>0</td>\n",
       "      <td>0</td>\n",
       "      <td>0</td>\n",
       "      <td>0</td>\n",
       "      <td>0</td>\n",
       "    </tr>\n",
       "    <tr>\n",
       "      <th>2</th>\n",
       "      <td>0</td>\n",
       "      <td>0</td>\n",
       "      <td>0</td>\n",
       "      <td>0</td>\n",
       "      <td>0</td>\n",
       "      <td>0</td>\n",
       "      <td>0</td>\n",
       "      <td>0</td>\n",
       "      <td>0</td>\n",
       "      <td>0</td>\n",
       "      <td>...</td>\n",
       "      <td>0</td>\n",
       "      <td>0</td>\n",
       "      <td>0</td>\n",
       "      <td>0</td>\n",
       "      <td>0</td>\n",
       "      <td>0</td>\n",
       "      <td>0</td>\n",
       "      <td>0</td>\n",
       "      <td>0</td>\n",
       "      <td>0</td>\n",
       "    </tr>\n",
       "    <tr>\n",
       "      <th>3</th>\n",
       "      <td>0</td>\n",
       "      <td>0</td>\n",
       "      <td>0</td>\n",
       "      <td>0</td>\n",
       "      <td>0</td>\n",
       "      <td>0</td>\n",
       "      <td>0</td>\n",
       "      <td>0</td>\n",
       "      <td>0</td>\n",
       "      <td>1</td>\n",
       "      <td>...</td>\n",
       "      <td>0</td>\n",
       "      <td>0</td>\n",
       "      <td>0</td>\n",
       "      <td>0</td>\n",
       "      <td>0</td>\n",
       "      <td>0</td>\n",
       "      <td>0</td>\n",
       "      <td>0</td>\n",
       "      <td>0</td>\n",
       "      <td>0</td>\n",
       "    </tr>\n",
       "    <tr>\n",
       "      <th>4</th>\n",
       "      <td>0</td>\n",
       "      <td>0</td>\n",
       "      <td>0</td>\n",
       "      <td>0</td>\n",
       "      <td>1</td>\n",
       "      <td>0</td>\n",
       "      <td>0</td>\n",
       "      <td>0</td>\n",
       "      <td>0</td>\n",
       "      <td>0</td>\n",
       "      <td>...</td>\n",
       "      <td>0</td>\n",
       "      <td>0</td>\n",
       "      <td>0</td>\n",
       "      <td>0</td>\n",
       "      <td>0</td>\n",
       "      <td>0</td>\n",
       "      <td>0</td>\n",
       "      <td>0</td>\n",
       "      <td>0</td>\n",
       "      <td>0</td>\n",
       "    </tr>\n",
       "  </tbody>\n",
       "</table>\n",
       "<p>5 rows × 620 columns</p>\n",
       "</div>"
      ],
      "text/plain": [
       "   0  1  2  3  4  5  6  7  8  9  ...  610  611  612  613  614  615  616  617  \\\n",
       "0  0  0  0  0  0  0  0  0  0  0  ...    1    0    0    0    0    0    0    0   \n",
       "1  0  0  1  0  0  0  0  0  0  0  ...    0    0    0    0    0    0    0    0   \n",
       "2  0  0  0  0  0  0  0  0  0  0  ...    0    0    0    0    0    0    0    0   \n",
       "3  0  0  0  0  0  0  0  0  0  1  ...    0    0    0    0    0    0    0    0   \n",
       "4  0  0  0  0  1  0  0  0  0  0  ...    0    0    0    0    0    0    0    0   \n",
       "\n",
       "   618  619  \n",
       "0    0    0  \n",
       "1    0    0  \n",
       "2    0    0  \n",
       "3    0    0  \n",
       "4    0    0  \n",
       "\n",
       "[5 rows x 620 columns]"
      ]
     },
     "execution_count": 42,
     "metadata": {},
     "output_type": "execute_result"
    }
   ],
   "source": [
    "# Inspect the first few rows of the negative data to identify non-numeric columns\n",
    "AAC_neg.head()\n"
   ]
  },
  {
   "cell_type": "code",
   "execution_count": 44,
   "metadata": {},
   "outputs": [
    {
     "name": "stderr",
     "output_type": "stream",
     "text": [
      "c:\\Users\\ddes2\\anaconda3\\Lib\\site-packages\\sklearn\\cluster\\_kmeans.py:870: FutureWarning: The default value of `n_init` will change from 10 to 'auto' in 1.4. Set the value of `n_init` explicitly to suppress the warning\n",
      "  warnings.warn(\n"
     ]
    },
    {
     "data": {
      "text/plain": [
       "4960"
      ]
     },
     "execution_count": 44,
     "metadata": {},
     "output_type": "execute_result"
    }
   ],
   "source": [
    "# Re-prepare the data for clustering\n",
    "n_clusters=5\n",
    "samples_per_cluster = len(AAC_pos) // n_clusters\n",
    "\n",
    "# Perform KMeans clustering on the cleaned negative data with 3 clusters\n",
    "kmeans = KMeans(n_clusters, random_state=42)\n",
    "negative_data_clusters = kmeans.fit_predict(AAC_neg)\n",
    "\n",
    "# Add the cluster information to the negative data\n",
    "X_neg = AAC_neg.copy()\n",
    "X_neg['Cluster'] = negative_data_clusters\n",
    "\n",
    "# Sample data from each cluster to match the number of positive samples\n",
    "balanced_neg_data = pd.DataFrame()\n",
    "for cluster in range(n_clusters):\n",
    "    cluster_sample_count = len(X_neg[X_neg['Cluster'] == cluster])\n",
    "    num_samples = min(samples_per_cluster, cluster_sample_count)\n",
    "    sampled_data = X_neg[X_neg['Cluster'] == cluster].sample(n=num_samples, random_state=42)\n",
    "    balanced_neg_data = pd.concat([balanced_neg_data, sampled_data], ignore_index=True)\n",
    "\n",
    "# Check the total number of selected negative samples\n",
    "total_selected_neg_samples = len(balanced_neg_data)\n",
    "total_selected_neg_samples\n"
   ]
  },
  {
   "cell_type": "markdown",
   "metadata": {},
   "source": [
    "拆分數據集"
   ]
  },
  {
   "cell_type": "code",
   "execution_count": 49,
   "metadata": {},
   "outputs": [],
   "source": [
    "combined_data = pd.concat([AAC_pos, balanced_neg_data], ignore_index=True)\n",
    "combined_data['Label'] = [1 if i < len(AAC_pos) else 0 for i in range(len(combined_data))]"
   ]
  },
  {
   "cell_type": "code",
   "execution_count": 50,
   "metadata": {},
   "outputs": [
    {
     "data": {
      "text/plain": [
       "9920"
      ]
     },
     "execution_count": 50,
     "metadata": {},
     "output_type": "execute_result"
    }
   ],
   "source": [
    "len(combined_data)"
   ]
  },
  {
   "cell_type": "code",
   "execution_count": 52,
   "metadata": {},
   "outputs": [],
   "source": [
    "from sklearn.model_selection import train_test_split\n",
    "from sklearn.preprocessing import StandardScaler\n",
    "\n",
    "X = combined_data.drop(columns=['Cluster', 'Label'])\n",
    "y = combined_data['Label']\n",
    "X_train, X_temp, y_train, y_temp = train_test_split(X, y, test_size=0.2, random_state=42)\n",
    "X_val, X_test, y_val, y_test = train_test_split(X_temp, y_temp, test_size=0.5, random_state=42)\n",
    "\n",
    "scaler = StandardScaler()\n",
    "X_train_scaled = scaler.fit_transform(X_train)\n",
    "X_val_scaled = scaler.transform(X_val)\n",
    "X_test_scaled = scaler.transform(X_test)\n"
   ]
  },
  {
   "cell_type": "markdown",
   "metadata": {},
   "source": [
    "## Model Building"
   ]
  },
  {
   "cell_type": "code",
   "execution_count": 53,
   "metadata": {},
   "outputs": [
    {
     "name": "stdout",
     "output_type": "stream",
     "text": [
      "Average 10-Fold CV Score: 0.69\n"
     ]
    }
   ],
   "source": [
    "from sklearn.svm import SVC\n",
    "from sklearn.model_selection import cross_val_score\n",
    "\n",
    "# Instantiate the SVM model\n",
    "svm_model = SVC(probability=True)\n",
    "\n",
    "# Perform 10-fold cross-validation\n",
    "cv_scores = cross_val_score(svm_model, X_train, y_train, cv=10)\n",
    "\n",
    "# Calculate average score from cross-validation\n",
    "avg_cv_score = cv_scores.mean()\n",
    "\n",
    "# Print the average score\n",
    "print(\"Average 10-Fold CV Score: {:.2f}\".format(avg_cv_score))\n",
    "\n",
    "# You can also fit the model on the entire training set if you need to make predictions later\n",
    "# svm_model.fit(X_train, y_train)\n"
   ]
  },
  {
   "cell_type": "code",
   "execution_count": 57,
   "metadata": {},
   "outputs": [],
   "source": [
    "svm_model.fit(X_train, y_train)\n",
    "# 在驗證集和測試集上評估模型效果\n",
    "\n",
    "y_val_pred = svm_model.predict(X_val)\n",
    "y_test_pred = svm_model.predict(X_test)"
   ]
  },
  {
   "cell_type": "code",
   "execution_count": 58,
   "metadata": {},
   "outputs": [
    {
     "name": "stdout",
     "output_type": "stream",
     "text": [
      "Validation -\n",
      "Sensitivity: 0.6841046277665996\n",
      "Specificity: 0.6727272727272727\n",
      "Accuracy: 0.6784274193548387\n",
      "MCC: 0.35685728603799394\n",
      "F1 Score: 0.6806806806806808\n",
      "Test -\n",
      "Sensitivity: 0.6829745596868885\n",
      "Specificity: 0.6860706860706861\n",
      "Accuracy: 0.6844758064516129\n",
      "MCC: 0.3688884432256442\n",
      "F1 Score: 0.6904055390702274\n"
     ]
    }
   ],
   "source": [
    "from sklearn.metrics import accuracy_score, f1_score, matthews_corrcoef\n",
    "from sklearn.metrics import confusion_matrix, roc_curve, auc\n",
    "\n",
    "# Helper function to calculate sensitivity and specificity\n",
    "def calc_sens_spec(y_true, y_pred):\n",
    "    cm = confusion_matrix(y_true, y_pred)\n",
    "    sensitivity = cm[1, 1] / (cm[1, 0] + cm[1, 1])\n",
    "    specificity = cm[0, 0] / (cm[0, 1] + cm[0, 0])\n",
    "    return sensitivity, specificity\n",
    "\n",
    "# Calculate metrics for validation set\n",
    "sensitivity_val, specificity_val = calc_sens_spec(y_val, y_val_pred)\n",
    "accuracy_val = accuracy_score(y_val, y_val_pred)\n",
    "mcc_val = matthews_corrcoef(y_val, y_val_pred)\n",
    "f1_val = f1_score(y_val, y_val_pred)\n",
    "\n",
    "# Calculate metrics for testing set\n",
    "sensitivity_test, specificity_test = calc_sens_spec(y_test, y_test_pred)\n",
    "accuracy_test = accuracy_score(y_test, y_test_pred)\n",
    "mcc_test = matthews_corrcoef(y_test, y_test_pred)\n",
    "f1_test = f1_score(y_test, y_test_pred)\n",
    "\n",
    "# Print validation metrics\n",
    "# print(f'Validation - Sensitivity: {sensitivity_val}, Specificity: {specificity_val}, '\n",
    "#       f'Accuracy: {accuracy_val}, MCC: {mcc_val}, F1 Score: {f1_val}')\n",
    "\n",
    "print(f'''Validation -\n",
    "Sensitivity: {sensitivity_val}\n",
    "Specificity: {specificity_val}\n",
    "Accuracy: {accuracy_val}\n",
    "MCC: {mcc_val}\n",
    "F1 Score: {f1_val}''')\n",
    "\n",
    "# Print test metrics\n",
    "# print(f'Test - Sensitivity: {sensitivity_test}, Specificity: {specificity_test}, '\n",
    "#       f'Accuracy: {accuracy_test}, MCC: {mcc_test}, F1 Score: {f1_test}')\n",
    "print(f'''Test -\n",
    "Sensitivity: {sensitivity_test}\n",
    "Specificity: {specificity_test}\n",
    "Accuracy: {accuracy_test}\n",
    "MCC: {mcc_test}\n",
    "F1 Score: {f1_test}''')\n",
    "\n"
   ]
  },
  {
   "cell_type": "code",
   "execution_count": 59,
   "metadata": {},
   "outputs": [
    {
     "name": "stdout",
     "output_type": "stream",
     "text": [
      "Val -\n",
      "fpr_val: [0.         0.32727273 1.        ]\n",
      "tpr_val: [0.         0.68410463 1.        ]\n",
      "AUC_val: 0.6784159502469361\n",
      "Test -\n",
      "fpr_test: [0.         0.31392931 1.        ]\n",
      "tpr_test: [0.         0.68297456 1.        ]\n",
      "AUC_test: 0.6845226228787872\n"
     ]
    },
    {
     "data": {
      "image/png": "[encoded data removed]",
      "text/plain": [
       "<Figure size 640x480 with 1 Axes>"
      ]
     },
     "metadata": {},
     "output_type": "display_data"
    }
   ],
   "source": [
    "# Calculate ROC curve\n",
    "fpr_val, tpr_val, _ = roc_curve(y_val, y_val_pred)\n",
    "fpr_test, tpr_test, _ = roc_curve(y_test, y_test_pred)\n",
    "\n",
    "roc_auc_val = auc(fpr_val, tpr_val)\n",
    "roc_auc_test = auc(fpr_test, tpr_test)\n",
    "\n",
    "print(f'''Val -\n",
    "fpr_val: {fpr_val}\n",
    "tpr_val: {tpr_val}\n",
    "AUC_val: {roc_auc_val}''')\n",
    "\n",
    "print(f'''Test -\n",
    "fpr_test: {fpr_test}\n",
    "tpr_test: {tpr_test}\n",
    "AUC_test: {roc_auc_test}''')\n",
    "\n",
    "\n",
    "\n",
    "plt.figure()\n",
    "\n",
    "# Plot the ROC curve of testing\n",
    "plt.plot(fpr_test, tpr_test, label='Test ROC curve (area = %0.2f)' % roc_auc_test, color='blue')\n",
    "plt.plot(fpr_val, tpr_val, label='Validation ROC curve (area = %0.2f)' % roc_auc_val, color='orange')\n",
    "plt.plot([0, 1], [0, 1], 'k--')\n",
    "\n",
    "plt.xlabel('False Positive Rate')\n",
    "plt.ylabel('True Positive Rate')\n",
    "plt.title('ROC Curve on Validation and Test Data')\n",
    "plt.legend(loc=\"lower right\")\n",
    "plt.show()\n"
   ]
  }
 ],
 "metadata": {
  "kernelspec": {
   "display_name": "Python 3",
   "language": "python",
   "name": "python3"
  },
  "language_info": {
   "codemirror_mode": {
    "name": "ipython",
    "version": 3
   },
   "file_extension": ".py",
   "mimetype": "text/x-python",
   "name": "python",
   "nbconvert_exporter": "python",
   "pygments_lexer": "ipython3",
   "version": "3.11.3"
  }
 },
 "nbformat": 4,
 "nbformat_minor": 2
}
